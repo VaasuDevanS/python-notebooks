{
  "cells": [
    {
      "cell_type": "markdown",
      "metadata": {
        "id": "view-in-github",
        "colab_type": "text"
      },
      "source": [
        "<a href=\"https://colab.research.google.com/github/VaasuDevanS/python-notebooks/blob/main/DataLemur/all-easy-problems.ipynb\" target=\"_parent\"><img src=\"https://colab.research.google.com/assets/colab-badge.svg\" alt=\"Open In Colab\"/></a>"
      ]
    },
    {
      "cell_type": "markdown",
      "source": [
        "# Factorial Formula\n",
        "https://datalemur.com/questions/python-factorial-formula"
      ],
      "metadata": {
        "id": "agHfJO3Zaw_H"
      }
    },
    {
      "cell_type": "code",
      "execution_count": 1,
      "metadata": {
        "id": "lIYdn1woOS1n"
      },
      "outputs": [],
      "source": [
        "import math\n",
        "\n",
        "def factorial(n: int) -> int:\n",
        "    return math.factorial(n)\n",
        "\n",
        "assert factorial(5) == 120"
      ]
    },
    {
      "cell_type": "markdown",
      "source": [
        "# Fizz Buzz Sum\n",
        "https://datalemur.com/questions/python-fizz-buzz-sum"
      ],
      "metadata": {
        "id": "jWkaUOwBa4lD"
      }
    },
    {
      "cell_type": "code",
      "source": [
        "def fizz_buzz_sum(target: int) -> int:\n",
        "    return sum(i for i in range(target) if i % 3 == 0 or i % 5 == 0)\n",
        "\n",
        "assert fizz_buzz_sum(10) == 23"
      ],
      "metadata": {
        "id": "W6piF-6Ia9xt"
      },
      "execution_count": 3,
      "outputs": []
    },
    {
      "cell_type": "markdown",
      "source": [
        "# Intersection of Two Lists\n",
        "https://datalemur.com/questions/python-intersection-of-two-lists"
      ],
      "metadata": {
        "id": "gYO6vMeUbyeR"
      }
    },
    {
      "cell_type": "code",
      "source": [
        "def intersection(a: list[int], b: list[int]) -> list[int]:\n",
        "    return list(set(a).intersection(b))\n",
        "\n",
        "assert intersection([1, 2, 3, 4, 5], [0, 1, 3, 7]) == [1, 3]"
      ],
      "metadata": {
        "id": "a4mw1Tbib3fV"
      },
      "execution_count": 4,
      "outputs": []
    },
    {
      "cell_type": "markdown",
      "source": [
        "# Missing Integer\n",
        "https://datalemur.com/questions/python-missing-integer"
      ],
      "metadata": {
        "id": "hrOAZHclcRW3"
      }
    },
    {
      "cell_type": "code",
      "source": [
        "def missing_int(input: list[int])-> int:\n",
        "    return ((n := len(input)) * (n + 1) / 2) - sum(input)\n",
        "\n",
        "assert missing_int([0, 1, 3]) == 2\n",
        "assert missing_int([4, 3, 2, 1]) == 0"
      ],
      "metadata": {
        "id": "TAKbVIYScSd8"
      },
      "execution_count": 5,
      "outputs": []
    },
    {
      "cell_type": "markdown",
      "source": [
        "# Contains Duplicate\n",
        "https://datalemur.com/questions/python-contains-duplicate"
      ],
      "metadata": {
        "id": "Urll0wdodDKs"
      }
    },
    {
      "cell_type": "code",
      "source": [
        "def contains_duplicate(input: list[int])-> bool:\n",
        "    return len(input) != len(set(input))\n",
        "\n",
        "assert contains_duplicate([1, 3, 5, 7, 1]) == True\n",
        "assert contains_duplicate([1, 3, 5, 7]) == False"
      ],
      "metadata": {
        "id": "Y_eGS8C1dEck"
      },
      "execution_count": 7,
      "outputs": []
    },
    {
      "cell_type": "markdown",
      "source": [
        "# Salary Inequity\n",
        "https://datalemur.com/questions/python-salary-inequity"
      ],
      "metadata": {
        "id": "JO3n1ZLydlaS"
      }
    },
    {
      "cell_type": "code",
      "source": [
        "def min_inequity(salaries: list[int], n: int) -> int:\n",
        "    salaries.sort()\n",
        "    return max(salaries[:n]) - min(salaries[:n])\n",
        "\n",
        "assert min_inequity([60000, 80000, 120000, 70000], 2) == 10000\n",
        "assert min_inequity([60000, 80000, 120000, 70000], 3) == 20000"
      ],
      "metadata": {
        "id": "U4i9HQuSdsmd"
      },
      "execution_count": 12,
      "outputs": []
    },
    {
      "cell_type": "markdown",
      "source": [
        "# Max Profit Trading Stocks\n",
        "https://datalemur.com/questions/python-max-profit-trading-stocks"
      ],
      "metadata": {
        "id": "_cjVwP8ye1Ld"
      }
    },
    {
      "cell_type": "code",
      "source": [
        "def max_subarray_sum(prices: list[int]) -> int:\n",
        "    min_price, max_profit = prices[0], 0\n",
        "    for price in prices[1:]:\n",
        "        max_profit = max(max_profit, price - min_price)\n",
        "        min_price = min(min_price, price)\n",
        "    return max_profit\n",
        "\n",
        "assert max_subarray_sum([9, 1, 3, 6, 4, 8, 3, 5, 5]) == 7\n",
        "assert max_subarray_sum([6, 4, 3, 3, 2]) == 0"
      ],
      "metadata": {
        "id": "Kp6pspNCe3pE"
      },
      "execution_count": 16,
      "outputs": []
    }
  ],
  "metadata": {
    "colab": {
      "name": "scratchpad",
      "provenance": [],
      "include_colab_link": true
    },
    "kernelspec": {
      "display_name": "Python 3",
      "name": "python3"
    }
  },
  "nbformat": 4,
  "nbformat_minor": 0
}