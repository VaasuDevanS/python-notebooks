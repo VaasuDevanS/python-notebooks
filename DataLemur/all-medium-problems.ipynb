{
  "cells": [
    {
      "cell_type": "markdown",
      "metadata": {
        "id": "view-in-github",
        "colab_type": "text"
      },
      "source": [
        "<a href=\"https://colab.research.google.com/github/VaasuDevanS/python-notebooks/blob/main/DataLemur/all-medium-problems.ipynb\" target=\"_parent\"><img src=\"https://colab.research.google.com/assets/colab-badge.svg\" alt=\"Open In Colab\"/></a>"
      ]
    },
    {
      "cell_type": "markdown",
      "source": [
        "# Factorial Trailing Zeroes\n",
        "https://datalemur.com/questions/python-factorial-trailing-zeroes"
      ],
      "metadata": {
        "id": "LNtuSa7UjOFc"
      }
    },
    {
      "cell_type": "code",
      "source": [
        "import math\n",
        "\n",
        "def trailing_zeroes(n: int) -> int:\n",
        "    fact = str(math.factorial(n))\n",
        "    return len(fact) - len(fact.rstrip('0'))\n",
        "\n",
        "assert trailing_zeroes(5) == 1\n",
        "assert trailing_zeroes(10) == 2"
      ],
      "metadata": {
        "id": "NBT9nssdjPbq"
      },
      "execution_count": null,
      "outputs": []
    },
    {
      "cell_type": "markdown",
      "source": [
        "# Maximum Product of Three Numbers\n",
        "https://datalemur.com/questions/python-maximum-product-three-numbers"
      ],
      "metadata": {
        "id": "2DtpHRVylJMF"
      }
    },
    {
      "cell_type": "code",
      "source": [
        "from itertools import combinations\n",
        "\n",
        "def max_three(input: list[int]):\n",
        "    products = [i * j * k for (i, j, k) in combinations(input, 3)]\n",
        "    return max(products)\n",
        "\n",
        "assert max_three([1, 3, 4, 5]) == 60\n",
        "assert max_three([-4, -2, 3, 5]) == 40"
      ],
      "metadata": {
        "id": "9EZO9OgHlNnS"
      },
      "execution_count": null,
      "outputs": []
    },
    {
      "cell_type": "markdown",
      "source": [
        "# Two Sum\n",
        "https://datalemur.com/questions/python-two-sum"
      ],
      "metadata": {
        "id": "c5VDF0ErmXAu"
      }
    },
    {
      "cell_type": "code",
      "source": [
        "from itertools import combinations\n",
        "\n",
        "def two_sum(input: list[int], target: int) -> list[int]:\n",
        "    for i, j in combinations(range(len(input)), 2):\n",
        "        if input[i] + input[j] == target:\n",
        "            return [i, j]\n",
        "    return [-1, -1]\n",
        "\n",
        "assert two_sum([1, 4, 6, 10], 10) == [1, 2]\n",
        "assert two_sum([1, 4, 6, 10], 11) == [0, 3]\n",
        "assert two_sum([1, 4, 6, 10], 2) == [-1, -1]"
      ],
      "metadata": {
        "id": "F3ZbpcGcmaex"
      },
      "execution_count": null,
      "outputs": []
    },
    {
      "cell_type": "markdown",
      "source": [
        "# Largest Prime Factor\n",
        "https://datalemur.com/questions/python-largest-prime-factor"
      ],
      "metadata": {
        "id": "ExDM2wX0Vc_n"
      }
    },
    {
      "cell_type": "code",
      "source": [
        "def largest_prime_factor(target: int) -> int:\n",
        "    is_prime = lambda x: all(x % j != 0 for j in range(2, x))\n",
        "    factors = [i for i in range(2, target) if target % i == 0]\n",
        "    prime_factors = [i for i in factors if is_prime(i)]\n",
        "    return max(prime_factors)\n",
        "\n",
        "assert largest_prime_factor(42) == 7\n",
        "assert largest_prime_factor(25) == 5"
      ],
      "metadata": {
        "id": "S8qLqjlRVe3I"
      },
      "execution_count": null,
      "outputs": []
    },
    {
      "cell_type": "markdown",
      "source": [
        "# Smallest Multiple\n",
        "https://datalemur.com/questions/python-smallest-multiple"
      ],
      "metadata": {
        "id": "cnnQ0tMPXL_R"
      }
    },
    {
      "cell_type": "code",
      "source": [
        "def smallest_multiple(target: int) -> int:\n",
        "    num = 1\n",
        "    while True:\n",
        "        for i in range(1, target + 1):\n",
        "            if num % i != 0:\n",
        "                num += 1\n",
        "                break\n",
        "            continue\n",
        "        else:\n",
        "            return num\n",
        "\n",
        "assert smallest_multiple(5) == 60"
      ],
      "metadata": {
        "id": "buq0zBG4WWIw"
      },
      "execution_count": 10,
      "outputs": []
    },
    {
      "cell_type": "markdown",
      "source": [
        "# Merge Conflicts\n",
        "https://datalemur.com/questions/python-merge-conflicts"
      ],
      "metadata": {
        "id": "-wLA6XJzbdIj"
      }
    },
    {
      "cell_type": "code",
      "source": [
        "def has_merge_conflict(pull_requests: list[list[int]]) -> bool:\n",
        "    line_nos = []\n",
        "    for start, end in pull_requests:\n",
        "        line_nos.extend(range(start, end))\n",
        "    return len(line_nos) != len(set(line_nos))\n",
        "\n",
        "assert has_merge_conflict([[5, 10], [15, 40], [25, 50]]) == True\n",
        "assert has_merge_conflict([[30, 40], [10, 20], [5, 8]]) == False"
      ],
      "metadata": {
        "id": "r55yMMIIbeYq"
      },
      "execution_count": 19,
      "outputs": []
    }
  ],
  "metadata": {
    "colab": {
      "name": "scratchpad",
      "provenance": [],
      "include_colab_link": true
    },
    "kernelspec": {
      "display_name": "Python 3",
      "name": "python3"
    }
  },
  "nbformat": 4,
  "nbformat_minor": 0
}