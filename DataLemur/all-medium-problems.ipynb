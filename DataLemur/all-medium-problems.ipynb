{
  "cells": [
    {
      "cell_type": "markdown",
      "metadata": {
        "id": "view-in-github",
        "colab_type": "text"
      },
      "source": [
        "<a href=\"https://colab.research.google.com/github/VaasuDevanS/python-notebooks/blob/main/DataLemur/all-medium-problems.ipynb\" target=\"_parent\"><img src=\"https://colab.research.google.com/assets/colab-badge.svg\" alt=\"Open In Colab\"/></a>"
      ]
    },
    {
      "cell_type": "markdown",
      "source": [
        "# Factorial Trailing Zeroes\n",
        "https://datalemur.com/questions/python-factorial-trailing-zeroes"
      ],
      "metadata": {
        "id": "LNtuSa7UjOFc"
      }
    },
    {
      "cell_type": "code",
      "source": [
        "import math\n",
        "\n",
        "def trailing_zeroes(n: int) -> int:\n",
        "    fact = str(math.factorial(n))\n",
        "    return len(fact) - len(fact.rstrip('0'))\n",
        "\n",
        "assert trailing_zeroes(5) == 1\n",
        "assert trailing_zeroes(10) == 2"
      ],
      "metadata": {
        "id": "NBT9nssdjPbq"
      },
      "execution_count": 8,
      "outputs": []
    },
    {
      "cell_type": "markdown",
      "source": [
        "# Maximum Product of Three Numbers\n",
        "https://datalemur.com/questions/python-maximum-product-three-numbers"
      ],
      "metadata": {
        "id": "2DtpHRVylJMF"
      }
    },
    {
      "cell_type": "code",
      "source": [
        "from itertools import combinations\n",
        "\n",
        "def max_three(input: list[int]):\n",
        "    products = [i * j * k for (i, j, k) in combinations(input, 3)]\n",
        "    return max(products)\n",
        "\n",
        "assert max_three([1, 3, 4, 5]) == 60\n",
        "assert max_three([-4, -2, 3, 5]) == 40"
      ],
      "metadata": {
        "id": "9EZO9OgHlNnS",
        "outputId": "aa972672-60f0-4569-ce8a-572331c20d6c",
        "colab": {
          "base_uri": "https://localhost:8080/"
        }
      },
      "execution_count": 11,
      "outputs": [
        {
          "output_type": "stream",
          "name": "stdout",
          "text": [
            "[12, 15, 20, 60]\n",
            "[24, 40, -60, -30]\n"
          ]
        }
      ]
    },
    {
      "cell_type": "markdown",
      "source": [
        "# Two Sum\n",
        "https://datalemur.com/questions/python-two-sum"
      ],
      "metadata": {
        "id": "c5VDF0ErmXAu"
      }
    },
    {
      "cell_type": "code",
      "source": [
        "from itertools import combinations\n",
        "\n",
        "def two_sum(input: list[int], target: int) -> list[int]:\n",
        "    for i, j in combinations(range(len(input)), 2):\n",
        "        if input[i] + input[j] == target:\n",
        "            return [i, j]\n",
        "    return [-1, -1]\n",
        "\n",
        "assert two_sum([1, 4, 6, 10], 10) == [1, 2]\n",
        "assert two_sum([1, 4, 6, 10], 11) == [0, 3]\n",
        "assert two_sum([1, 4, 6, 10], 2) == [-1, -1]"
      ],
      "metadata": {
        "id": "F3ZbpcGcmaex"
      },
      "execution_count": 16,
      "outputs": []
    }
  ],
  "metadata": {
    "colab": {
      "name": "scratchpad",
      "provenance": [],
      "include_colab_link": true
    },
    "kernelspec": {
      "display_name": "Python 3",
      "name": "python3"
    }
  },
  "nbformat": 4,
  "nbformat_minor": 0
}