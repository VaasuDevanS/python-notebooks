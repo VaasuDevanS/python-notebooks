{
  "nbformat": 4,
  "nbformat_minor": 0,
  "metadata": {
    "colab": {
      "provenance": [],
      "toc_visible": true,
      "authorship_tag": "ABX9TyMRzsb1jZCtPQm7pECHgJYG",
      "include_colab_link": true
    },
    "kernelspec": {
      "name": "python3",
      "display_name": "Python 3"
    },
    "language_info": {
      "name": "python"
    }
  },
  "cells": [
    {
      "cell_type": "markdown",
      "metadata": {
        "id": "view-in-github",
        "colab_type": "text"
      },
      "source": [
        "<a href=\"https://colab.research.google.com/github/VaasuDevanS/python-notebooks/blob/main/StrataScratch/Airbnb.ipynb\" target=\"_parent\"><img src=\"https://colab.research.google.com/assets/colab-badge.svg\" alt=\"Open In Colab\"/></a>"
      ]
    },
    {
      "cell_type": "markdown",
      "source": [
        "# 9622 Number Of Bathrooms And Bedrooms\n",
        "https://platform.stratascratch.com/coding/9622-number-of-bathrooms-and-bedrooms?code_type=2"
      ],
      "metadata": {
        "id": "u3LVcMaUV_PK"
      }
    },
    {
      "cell_type": "code",
      "source": [
        "result = (\n",
        "    airbnb_search_details[['city', 'property_type', 'bedrooms', 'bathrooms']]\n",
        "        .groupby(['city', 'property_type'], as_index=False)\n",
        "        .mean()\n",
        "        .rename(columns={'bedrooms': 'n_bedrooms_avg',\n",
        "                         'bathrooms': 'n_bathrooms_avg'})\n",
        ")"
      ],
      "metadata": {
        "id": "CpbomAMLV-vL"
      },
      "execution_count": null,
      "outputs": []
    },
    {
      "cell_type": "markdown",
      "source": [
        "# 10166 Reviews of Hotel Arena\n",
        "https://platform.stratascratch.com/coding/10166-reviews-of-hotel-arena?code_type=2"
      ],
      "metadata": {
        "id": "wtc-u6FnRL1s"
      }
    },
    {
      "cell_type": "code",
      "execution_count": null,
      "metadata": {
        "id": "GHoPvil7Qx3-"
      },
      "outputs": [],
      "source": [
        "result = (\n",
        "    hotel_reviews[['reviewer_score', 'hotel_name']]\n",
        "        .query('hotel_name == \"Hotel Arena\"')\n",
        "        .assign(n_reviews=1)\n",
        "        .groupby(['reviewer_score', 'hotel_name'], as_index=False)\n",
        "        .count()\n",
        ")"
      ]
    }
  ]
}