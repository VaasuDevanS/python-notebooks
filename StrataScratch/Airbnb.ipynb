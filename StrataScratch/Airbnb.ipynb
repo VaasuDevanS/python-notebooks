{
  "nbformat": 4,
  "nbformat_minor": 0,
  "metadata": {
    "colab": {
      "provenance": [],
      "toc_visible": true,
      "authorship_tag": "ABX9TyPfZvtiX8NX77sfj1DsF3og",
      "include_colab_link": true
    },
    "kernelspec": {
      "name": "python3",
      "display_name": "Python 3"
    },
    "language_info": {
      "name": "python"
    }
  },
  "cells": [
    {
      "cell_type": "markdown",
      "metadata": {
        "id": "view-in-github",
        "colab_type": "text"
      },
      "source": [
        "<a href=\"https://colab.research.google.com/github/VaasuDevanS/python-notebooks/blob/main/StrataScratch/Airbnb.ipynb\" target=\"_parent\"><img src=\"https://colab.research.google.com/assets/colab-badge.svg\" alt=\"Open In Colab\"/></a>"
      ]
    },
    {
      "cell_type": "markdown",
      "source": [
        "# 9622 Number Of Bathrooms And Bedrooms\n",
        "https://platform.stratascratch.com/coding/9622-number-of-bathrooms-and-bedrooms?code_type=2"
      ],
      "metadata": {
        "id": "u3LVcMaUV_PK"
      }
    },
    {
      "cell_type": "code",
      "source": [
        "result = (\n",
        "    airbnb_search_details[['city', 'property_type', 'bedrooms', 'bathrooms']]\n",
        "        .groupby(['city', 'property_type'], as_index=False)\n",
        "        .mean()\n",
        "        .rename(columns={'bedrooms': 'n_bedrooms_avg',\n",
        "                         'bathrooms': 'n_bathrooms_avg'})\n",
        ")"
      ],
      "metadata": {
        "id": "CpbomAMLV-vL"
      },
      "execution_count": null,
      "outputs": []
    },
    {
      "cell_type": "markdown",
      "source": [
        "# 10078 Find matching hosts and guests in a way that they are both of the same gender and nationality\n",
        "https://platform.stratascratch.com/coding/10078-find-matching-hosts-and-guests-in-a-way-that-they-are-both-of-the-same-gender-and-nationality?code_type=2"
      ],
      "metadata": {
        "id": "hOnwD9DTxV69"
      }
    },
    {
      "cell_type": "code",
      "source": [
        "result = (\n",
        "    pd.merge(airbnb_hosts, airbnb_guests, on=['gender', 'nationality'])\n",
        "    [['host_id', 'guest_id']]\n",
        "    .drop_duplicates()\n",
        ")"
      ],
      "metadata": {
        "id": "K2hACbiyxWn0"
      },
      "execution_count": null,
      "outputs": []
    },
    {
      "cell_type": "markdown",
      "source": [
        "# 10156 Number Of Units Per Nationality\n",
        "https://platform.stratascratch.com/coding/10156-number-of-units-per-nationality?code_type=2"
      ],
      "metadata": {
        "id": "cDVXpwMB3x7X"
      }
    },
    {
      "cell_type": "code",
      "source": [
        "result = (\n",
        "    airbnb_hosts\n",
        "        .drop_duplicates('host_id')\n",
        "        .query('age < 30')\n",
        "        .merge(airbnb_units.query('unit_type == \"Apartment\"'), on='host_id')\n",
        "        .assign(apartment_count=1)\n",
        "        .groupby('nationality', as_index=False)\n",
        "        .count()\n",
        "        [['nationality', 'apartment_count']]\n",
        "        .sort_values('apartment_count', ascending=False)\n",
        ")"
      ],
      "metadata": {
        "id": "MYKqiU1S35hb"
      },
      "execution_count": null,
      "outputs": []
    },
    {
      "cell_type": "markdown",
      "source": [
        "# 10166 Reviews of Hotel Arena\n",
        "https://platform.stratascratch.com/coding/10166-reviews-of-hotel-arena?code_type=2"
      ],
      "metadata": {
        "id": "wtc-u6FnRL1s"
      }
    },
    {
      "cell_type": "code",
      "execution_count": null,
      "metadata": {
        "id": "GHoPvil7Qx3-"
      },
      "outputs": [],
      "source": [
        "result = (\n",
        "    hotel_reviews[['reviewer_score', 'hotel_name']]\n",
        "        .query('hotel_name == \"Hotel Arena\"')\n",
        "        .assign(n_reviews=1)\n",
        "        .groupby(['reviewer_score', 'hotel_name'], as_index=False)\n",
        "        .count()\n",
        ")"
      ]
    },
    {
      "cell_type": "markdown",
      "source": [
        "# 10159 Ranking Most Active Guests\n",
        "https://platform.stratascratch.com/coding/10159-ranking-most-active-guests?code_type=2"
      ],
      "metadata": {
        "id": "PJN2SiWj7E2p"
      }
    },
    {
      "cell_type": "code",
      "source": [
        "result = (\n",
        "    airbnb_contacts[['id_guest', 'n_messages']]\n",
        "        .groupby('id_guest', as_index=False)\n",
        "        .sum()\n",
        "        .sort_values('n_messages', ascending=False)\n",
        ")\n",
        "\n",
        "result['rank'] = result['n_messages'].rank(method='dense', ascending=False)"
      ],
      "metadata": {
        "id": "VL8-dCJ37mtF"
      },
      "execution_count": null,
      "outputs": []
    },
    {
      "cell_type": "markdown",
      "source": [
        "# 9632 Host Popularity Rental Prices\n",
        "https://platform.stratascratch.com/coding/9632-host-popularity-rental-prices?code_type=2"
      ],
      "metadata": {
        "id": "w-qOL8oBMoDG"
      }
    },
    {
      "cell_type": "code",
      "source": [
        "def pop_rating(x: int) -> str:\n",
        "    if x == 0:\n",
        "        return 'New'\n",
        "    elif 1 <= x <= 5:\n",
        "        return 'Rising'\n",
        "    elif 6 <= x <= 15:\n",
        "        return 'Trending Up'\n",
        "    elif 16 <= x <= 40:\n",
        "        return 'Popular'\n",
        "    elif x > 40:\n",
        "        return 'Hot'\n",
        "\n",
        "\n",
        "result = (\n",
        "    airbnb_host_searches\n",
        "        .drop_duplicates(['price', 'room_type', 'host_since', 'zipcode', 'number_of_reviews'])\n",
        "        .assign(host_popularity=lambda df: df['number_of_reviews'].apply(pop_rating))\n",
        "        .groupby('host_popularity', as_index=False)\n",
        "        .agg({'price': ['min', 'mean', 'max']})\n",
        ")"
      ],
      "metadata": {
        "id": "qJgO9DDZMqKx"
      },
      "execution_count": null,
      "outputs": []
    },
    {
      "cell_type": "markdown",
      "source": [
        "# 9633 City With Most Amenities\n",
        "https://platform.stratascratch.com/coding/9633-city-with-most-amenities?code_type=2"
      ],
      "metadata": {
        "id": "uZufEcSUQeCG"
      }
    },
    {
      "cell_type": "code",
      "source": [
        "result = (\n",
        "    airbnb_search_details\n",
        "        .assign(amenities_count=lambda df: df['amenities'].str.split(',').apply(len))\n",
        "        .groupby('city', as_index=False)\n",
        "        .agg({'amenities_count': 'sum'})\n",
        "        .nlargest(1, 'amenities_count')\n",
        "        ['city']\n",
        ")"
      ],
      "metadata": {
        "id": "jgZ5P-vhQkWi"
      },
      "execution_count": null,
      "outputs": []
    }
  ]
}