{
  "nbformat": 4,
  "nbformat_minor": 0,
  "metadata": {
    "colab": {
      "provenance": [],
      "toc_visible": true,
      "authorship_tag": "ABX9TyMvWU30BDLPcsL57QUohb9v"
    },
    "kernelspec": {
      "name": "python3",
      "display_name": "Python 3"
    },
    "language_info": {
      "name": "python"
    }
  },
  "cells": [
    {
      "cell_type": "markdown",
      "source": [
        "# 10166 Reviews of Hotel Arena\n",
        "https://platform.stratascratch.com/coding/10166-reviews-of-hotel-arena?code_type=2"
      ],
      "metadata": {
        "id": "wtc-u6FnRL1s"
      }
    },
    {
      "cell_type": "code",
      "execution_count": null,
      "metadata": {
        "id": "GHoPvil7Qx3-"
      },
      "outputs": [],
      "source": [
        "result = (\n",
        "    hotel_reviews\n",
        "        .query('hotel_name == \"Hotel Arena\"')\n",
        "        .assign(n_reviews=1)\n",
        "        .groupby(['reviewer_score', 'hotel_name'], as_index=False)\n",
        "        .count()\n",
        "        [['reviewer_score', 'hotel_name', 'n_reviews']]\n",
        ")"
      ]
    },
    {
      "cell_type": "code",
      "source": [],
      "metadata": {
        "id": "vdnPRwwFVUdo"
      },
      "execution_count": null,
      "outputs": []
    }
  ]
}