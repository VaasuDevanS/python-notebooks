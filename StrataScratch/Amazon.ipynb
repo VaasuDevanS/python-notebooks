{
  "nbformat": 4,
  "nbformat_minor": 0,
  "metadata": {
    "colab": {
      "provenance": [],
      "toc_visible": true,
      "authorship_tag": "ABX9TyMJ1TnoE29XQJ4taKxvoBZQ",
      "include_colab_link": true
    },
    "kernelspec": {
      "name": "python3",
      "display_name": "Python 3"
    },
    "language_info": {
      "name": "python"
    }
  },
  "cells": [
    {
      "cell_type": "markdown",
      "metadata": {
        "id": "view-in-github",
        "colab_type": "text"
      },
      "source": [
        "<a href=\"https://colab.research.google.com/github/VaasuDevanS/python-notebooks/blob/main/StrataScratch/Amazon.ipynb\" target=\"_parent\"><img src=\"https://colab.research.google.com/assets/colab-badge.svg\" alt=\"Open In Colab\"/></a>"
      ]
    },
    {
      "cell_type": "markdown",
      "source": [
        "# 9913 Order Details\n",
        "https://platform.stratascratch.com/coding/9913-order-details?code_type=2"
      ],
      "metadata": {
        "id": "wtc-u6FnRL1s"
      }
    },
    {
      "cell_type": "code",
      "execution_count": null,
      "metadata": {
        "id": "GHoPvil7Qx3-"
      },
      "outputs": [],
      "source": [
        "result = (\n",
        "    customers[customers['first_name'].isin(['Jill', 'Eva'])]\n",
        "        .merge(orders, left_on='id', right_on='cust_id')\n",
        "        .sort_values('cust_id')\n",
        "        [['first_name', 'order_date', 'order_details', 'total_order_cost']]\n",
        ")"
      ]
    },
    {
      "cell_type": "markdown",
      "source": [
        "# 2056 Number of Shipments Per Month\n",
        "https://platform.stratascratch.com/coding/2056-number-of-shipments-per-month?code_type=2"
      ],
      "metadata": {
        "id": "4X4Z0KaBeKPF"
      }
    },
    {
      "cell_type": "code",
      "source": [
        "result = (\n",
        "    amazon_shipment\n",
        "        .assign(year_month=amazon_shipment['shipment_date'].dt.strftime('%Y-%m'), count=1)\n",
        "        .groupby('year_month', as_index=False)\n",
        "        .count()\n",
        "        [['year_month', 'count']]\n",
        ")"
      ],
      "metadata": {
        "id": "A9Nfs2TGeN8X"
      },
      "execution_count": null,
      "outputs": []
    },
    {
      "cell_type": "markdown",
      "source": [
        "# 9845 Admin Department Employees Beginning in April or Later\n",
        "https://platform.stratascratch.com/coding/9845-find-the-number-of-employees-working-in-the-admin-department?code_type=2"
      ],
      "metadata": {
        "id": "97M4p4nZfe5v"
      }
    },
    {
      "cell_type": "code",
      "source": [
        "result = (\n",
        "    worker\n",
        "        .query('department == \"Admin\" and joining_date.dt.month >= 4')\n",
        "        .shape[0]\n",
        ")"
      ],
      "metadata": {
        "id": "gfLPwl3wfmTG"
      },
      "execution_count": null,
      "outputs": []
    },
    {
      "cell_type": "markdown",
      "source": [
        "# 9847 Number of Workers by Department Starting in April or Later\n",
        "https://platform.stratascratch.com/coding/9847-find-the-number-of-workers-by-department?code_type=2"
      ],
      "metadata": {
        "id": "sQcIJEQKgSTp"
      }
    },
    {
      "cell_type": "code",
      "source": [
        "result = (\n",
        "    worker\n",
        "        .query('joining_date.dt.month >= 4')\n",
        "        .assign(num_workers=1)\n",
        "        .groupby('department', as_index=False)\n",
        "        .count()\n",
        "        .sort_values('num_workers', ascending=False)\n",
        "        [['department', 'num_workers']]\n",
        ")"
      ],
      "metadata": {
        "id": "DqhGSFPcgg5Q"
      },
      "execution_count": null,
      "outputs": []
    },
    {
      "cell_type": "markdown",
      "source": [
        "# 9891 Customer Details\n",
        "https://platform.stratascratch.com/coding/9891-customer-details?code_type=2"
      ],
      "metadata": {
        "id": "GWkuo9S5hCXN"
      }
    },
    {
      "cell_type": "code",
      "source": [
        "result = (\n",
        "    customers\n",
        "        .merge(orders, left_on='id', right_on='cust_id', how='left')\n",
        "        [['first_name', 'last_name', 'city', 'order_details']]\n",
        "        .sort_values(['first_name', 'order_details'])\n",
        ")"
      ],
      "metadata": {
        "id": "jFADakhphGqM"
      },
      "execution_count": null,
      "outputs": []
    },
    {
      "cell_type": "markdown",
      "source": [
        "# 10353 Workers With The Highest Salaries\n",
        "https://platform.stratascratch.com/coding/10353-workers-with-the-highest-salaries?code_type=2"
      ],
      "metadata": {
        "id": "83K4n2pYiIgk"
      }
    },
    {
      "cell_type": "code",
      "source": [
        "result = (\n",
        "    worker\n",
        "        .merge(title, left_on='worker_id', right_on='worker_ref_id')\n",
        "        [['worker_title', 'salary']]\n",
        "        .query('salary == salary.max()')\n",
        "        .rename(columns={'worker_title': 'best_paid_title'})\n",
        "        ['best_paid_title']\n",
        ")"
      ],
      "metadata": {
        "id": "Ki5itbIriS3d"
      },
      "execution_count": null,
      "outputs": []
    },
    {
      "cell_type": "markdown",
      "source": [
        "# 9782 Customer Revenue In March\n",
        "https://platform.stratascratch.com/coding/9782-customer-revenue-in-march?code_type=2"
      ],
      "metadata": {
        "id": "G8ppka1Hjsd9"
      }
    },
    {
      "cell_type": "code",
      "source": [
        "result = (\n",
        "    orders\n",
        "        .query('order_date.dt.month == 3 and order_date.dt.year == 2019')\n",
        "        .groupby('cust_id', as_index=False)\n",
        "        .sum()\n",
        "        .rename(columns={'total_order_cost': 'revenue'})\n",
        "        [['cust_id', 'revenue']]\n",
        "        .sort_values('revenue', ascending=False)\n",
        ")"
      ],
      "metadata": {
        "id": "5RrzGU8Qj3ds"
      },
      "execution_count": null,
      "outputs": []
    },
    {
      "cell_type": "markdown",
      "source": [
        "# 9892 Second Highest Salary\n",
        "https://platform.stratascratch.com/coding/9892-second-highest-salary?code_type=2"
      ],
      "metadata": {
        "id": "M14tsVNmvnF5"
      }
    },
    {
      "cell_type": "code",
      "source": [
        "result = sorted(employee.salary)[-2]"
      ],
      "metadata": {
        "id": "kXcsWdB4vt7m"
      },
      "execution_count": null,
      "outputs": []
    },
    {
      "cell_type": "markdown",
      "source": [
        "# 9915 Highest Cost Orders\n",
        "https://platform.stratascratch.com/coding/9915-highest-cost-orders?code_type=2"
      ],
      "metadata": {
        "id": "2Odgrlf3wUFE"
      }
    },
    {
      "cell_type": "code",
      "source": [
        "result = (\n",
        "    orders[orders['order_date'].between('2019-02-01', '2019-05-01')]\n",
        "        .merge(customers, left_on='cust_id', right_on='id')\n",
        "        .groupby(['first_name', 'order_date'], as_index=False)\n",
        "        .sum()\n",
        "        .rename(columns={'total_order_cost': 'max_cost'})\n",
        "        [['first_name', 'order_date', 'max_cost']]\n",
        "        .nlargest(1, 'max_cost')\n",
        ")"
      ],
      "metadata": {
        "id": "3jGrcQB1wZHm"
      },
      "execution_count": null,
      "outputs": []
    },
    {
      "cell_type": "markdown",
      "source": [
        "# 10090 Find the percentage of shipable orders\n",
        "https://platform.stratascratch.com/coding/10090-find-the-percentage-of-shipable-orders?code_type=2"
      ],
      "metadata": {
        "id": "-erIOIfEzS7u"
      }
    },
    {
      "cell_type": "code",
      "source": [
        "result = (\n",
        "    orders\n",
        "        .merge(customers.dropna(subset=['address']), left_on='cust_id', right_on='id')\n",
        "        .shape[0] / len(orders) * 100\n",
        ")"
      ],
      "metadata": {
        "id": "muNygcRHzVxl"
      },
      "execution_count": null,
      "outputs": []
    },
    {
      "cell_type": "markdown",
      "source": [
        "# 10322 Finding User Purchases\n",
        "https://platform.stratascratch.com/coding/10322-finding-user-purchases?code_type=2"
      ],
      "metadata": {
        "id": "wKM7wPal0R4e"
      }
    },
    {
      "cell_type": "code",
      "source": [
        "def is_returning_user(row):\n",
        "    if len(row) >= 2:\n",
        "        for d1, d2 in zip(row['created_at'], row['created_at'][1:]):\n",
        "            if (d2 - d1).days <= 7:\n",
        "                return row['user_id']\n",
        "\n",
        "result = (\n",
        "    amazon_transactions\n",
        "        [['user_id', 'created_at']]\n",
        "        .sort_values('created_at')\n",
        "        .groupby('user_id', as_index=False)\n",
        "        .agg(list)\n",
        "        .apply(is_returning_user, axis=1)\n",
        "        .dropna()\n",
        ")"
      ],
      "metadata": {
        "id": "5LMeKXOR0UFF"
      },
      "execution_count": null,
      "outputs": []
    }
  ]
}