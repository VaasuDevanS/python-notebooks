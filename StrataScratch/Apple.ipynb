{
  "cells": [
    {
      "cell_type": "markdown",
      "metadata": {
        "id": "view-in-github",
        "colab_type": "text"
      },
      "source": [
        "<a href=\"https://colab.research.google.com/github/VaasuDevanS/python-notebooks/blob/main/StrataScratch/Apple.ipynb\" target=\"_parent\"><img src=\"https://colab.research.google.com/assets/colab-badge.svg\" alt=\"Open In Colab\"/></a>"
      ]
    },
    {
      "cell_type": "markdown",
      "source": [
        "# 9653 Count the number of user events performed by MacBookPro users\n",
        "https://platform.stratascratch.com/coding/9653-count-the-number-of-user-events-performed-by-macbookpro-users?code_type=2"
      ],
      "metadata": {
        "id": "jBJQMcU77mCF"
      }
    },
    {
      "cell_type": "code",
      "execution_count": null,
      "metadata": {
        "id": "lIYdn1woOS1n"
      },
      "outputs": [],
      "source": [
        "result = (\n",
        "    playbook_events\n",
        "        .query('device == \"macbook pro\"')\n",
        "        .assign(event_count=1)\n",
        "        .groupby('event_name', as_index=False)\n",
        "        .count()\n",
        "        [['event_name', 'event_count']]\n",
        "        .sort_values('event_count', ascending=False)\n",
        ")"
      ]
    },
    {
      "cell_type": "code",
      "source": [
        "df = playbook_events\n",
        "df.loc[df.device == 'macbook pro', 'event_name'].value_counts().reset_index()"
      ],
      "metadata": {
        "id": "Pe8sVGu48j_R"
      },
      "execution_count": null,
      "outputs": []
    },
    {
      "cell_type": "markdown",
      "source": [
        "# 2024 Unique Users Per Client Per Month\n",
        "https://platform.stratascratch.com/coding/2024-unique-users-per-client-per-month?code_type=2"
      ],
      "metadata": {
        "id": "_mmc-aXJ84Wj"
      }
    },
    {
      "cell_type": "code",
      "source": [
        "result = (\n",
        "    fact_events\n",
        "        .assign(time_id=fact_events['time_id'].dt.month)\n",
        "        .groupby(['time_id', 'client_id'], as_index=False)\n",
        "        .nunique()\n",
        "        [['client_id', 'time_id', 'user_id']]\n",
        "        .sort_values('client_id')\n",
        ")"
      ],
      "metadata": {
        "id": "IT11qWST86sf"
      },
      "execution_count": null,
      "outputs": []
    },
    {
      "cell_type": "markdown",
      "source": [
        "# 10141 Apple Product Counts ❌\n",
        "https://platform.stratascratch.com/coding/10141-apple-product-counts?code_type=2\n",
        "\n",
        "**comment**: https://platform.stratascratch.com/coding/10141-apple-product-counts/discussion?code_type=2#19824"
      ],
      "metadata": {
        "id": "bWzoRGdVdsDs"
      }
    },
    {
      "cell_type": "code",
      "source": [
        "from collections import defaultdict as ddict\n",
        "\n",
        "def count_apple_users(d):\n",
        "    counts = ddict(lambda: 0, d.value_counts())\n",
        "    return counts['macbook pro'] + counts['iphone 5s'] + counts['ipad air']\n",
        "\n",
        "result = (\n",
        "    playbook_events\n",
        "        .merge(playbook_users, on='user_id')\n",
        "        .drop_duplicates(['user_id', 'device'])\n",
        "        .groupby('language', as_index=False)\n",
        "        .agg(n_apple_users=('device', count_apple_users),\n",
        "             n_total_users=('device', 'count'))\n",
        "        .sort_values('n_total_users', ascending=False)\n",
        ")"
      ],
      "metadata": {
        "id": "_qryfO2UdvAm"
      },
      "execution_count": null,
      "outputs": []
    }
  ],
  "metadata": {
    "colab": {
      "name": "scratchpad",
      "provenance": [],
      "toc_visible": true,
      "include_colab_link": true
    },
    "kernelspec": {
      "display_name": "Python 3",
      "name": "python3"
    }
  },
  "nbformat": 4,
  "nbformat_minor": 0
}