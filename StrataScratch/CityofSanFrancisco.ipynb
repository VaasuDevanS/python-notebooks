{
  "cells": [
    {
      "cell_type": "markdown",
      "metadata": {
        "id": "view-in-github",
        "colab_type": "text"
      },
      "source": [
        "<a href=\"https://colab.research.google.com/github/VaasuDevanS/python-notebooks/blob/main/StrataScratch/CityofSanFrancisco.ipynb\" target=\"_parent\"><img src=\"https://colab.research.google.com/assets/colab-badge.svg\" alt=\"Open In Colab\"/></a>"
      ]
    },
    {
      "cell_type": "markdown",
      "source": [
        "# 9924 Find libraries who haven't provided the email address in circulation year 2016 but their notice preference definition is set to email\n",
        "https://platform.stratascratch.com/coding/9924-find-libraries-who-havent-provided-the-email-address-in-2016-but-their-notice-preference-definition-is-set-to-email?code_type=2"
      ],
      "metadata": {
        "id": "pAFd9GgThPVV"
      }
    },
    {
      "cell_type": "code",
      "source": [
        "result = (\n",
        "    library_usage\n",
        "        .query('circulation_active_year == 2016 and provided_email_address == False and notice_preference_definition == \"email\"')\n",
        "        ['home_library_code']\n",
        "        .drop_duplicates()\n",
        ")"
      ],
      "metadata": {
        "id": "ZuWrzeN5hUCK"
      },
      "execution_count": null,
      "outputs": []
    },
    {
      "cell_type": "markdown",
      "source": [
        "# 9972 Find the base pay for Police Captains\n",
        "https://platform.stratascratch.com/coding/9972-find-the-base-pay-for-police-captains?code_type=2"
      ],
      "metadata": {
        "id": "9DILFwFjieAZ"
      }
    },
    {
      "cell_type": "code",
      "source": [
        "result = (\n",
        "    sf_public_salaries\n",
        "        .query('jobtitle.str.contains(\"CAPTAIN\")')\n",
        "        [['employeename', 'basepay']]\n",
        ")"
      ],
      "metadata": {
        "id": "9IZG4qX2ig0T"
      },
      "execution_count": null,
      "outputs": []
    },
    {
      "cell_type": "markdown",
      "source": [
        "# 9728 Number of violations\n",
        "https://platform.stratascratch.com/coding/9728-inspections-that-resulted-in-violations?code_type=2"
      ],
      "metadata": {
        "id": "smvtYtoTjaYm"
      }
    },
    {
      "cell_type": "code",
      "source": [
        "result = (\n",
        "    sf_restaurant_health_violations\n",
        "        .query('business_name == \"Roxanne Cafe\"')\n",
        "        .assign(year=lambda x: x['inspection_date'].dt.year)\n",
        "        .groupby('year', as_index=False)\n",
        "        ['violation_id']\n",
        "        .count()\n",
        ")"
      ],
      "metadata": {
        "id": "zcpfIjKzjfez"
      },
      "execution_count": null,
      "outputs": []
    },
    {
      "cell_type": "markdown",
      "source": [
        "# 10077 Income By Title and Gender\n",
        "https://platform.stratascratch.com/coding/10077-income-by-title-and-gender?code_type=2"
      ],
      "metadata": {
        "id": "L_Y7xuQZkZGK"
      }
    },
    {
      "cell_type": "code",
      "source": [
        "sf_bonus = sf_bonus.groupby('worker_ref_id', as_index=False).sum()\n",
        "\n",
        "result = (\n",
        "    sf_employee\n",
        "        .merge(sf_bonus, left_on='id', right_on='worker_ref_id')\n",
        "        .assign(total_compensation=lambda x: x['salary'] + x['bonus'])\n",
        "        .groupby(['employee_title', 'sex'], as_index=False)\n",
        "        .agg(avg_total_comp=('total_compensation', 'mean'))\n",
        ")"
      ],
      "metadata": {
        "id": "N4EuOBXskdCb"
      },
      "execution_count": null,
      "outputs": []
    },
    {
      "cell_type": "markdown",
      "source": [
        "# 9726 Classify Business Type\n",
        "https://platform.stratascratch.com/coding/9726-classify-business-type?code_type=2"
      ],
      "metadata": {
        "id": "7OqXXiV5nIAX"
      }
    },
    {
      "cell_type": "code",
      "source": [
        "df = sf_restaurant_health_violations\n",
        "\n",
        "def categorize(x):\n",
        "    x = x.casefold()\n",
        "    if 'restaurant' in x:\n",
        "        return 'restaurant'\n",
        "    elif 'cafe' in x or 'café' in x or 'coffee' in x:\n",
        "        return 'cafe'\n",
        "    elif 'school' in x:\n",
        "        return 'school'\n",
        "    return 'other'\n",
        "\n",
        "df['business_type'] = df['business_name'].apply(categorize)\n",
        "\n",
        "result = (\n",
        "    df[['business_name', 'business_type']]\n",
        "    .drop_duplicates()\n",
        ")"
      ],
      "metadata": {
        "id": "9DJgCHkPnKb0"
      },
      "execution_count": null,
      "outputs": []
    }
  ],
  "metadata": {
    "colab": {
      "name": "scratchpad",
      "provenance": [],
      "toc_visible": true,
      "include_colab_link": true
    },
    "kernelspec": {
      "display_name": "Python 3",
      "name": "python3"
    }
  },
  "nbformat": 4,
  "nbformat_minor": 0
}