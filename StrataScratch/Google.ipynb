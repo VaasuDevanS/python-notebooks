{
  "cells": [
    {
      "cell_type": "markdown",
      "metadata": {
        "id": "view-in-github",
        "colab_type": "text"
      },
      "source": [
        "<a href=\"https://colab.research.google.com/github/VaasuDevanS/python-notebooks/blob/main/StrataScratch/Google.ipynb\" target=\"_parent\"><img src=\"https://colab.research.google.com/assets/colab-badge.svg\" alt=\"Open In Colab\"/></a>"
      ]
    },
    {
      "cell_type": "markdown",
      "source": [
        "# 10128 Count the number of movies that Abigail Breslin nominated for oscar\n",
        "https://platform.stratascratch.com/coding/10128-count-the-number-of-movies-that-abigail-breslin-nominated-for-oscar?code_type=2"
      ],
      "metadata": {
        "id": "tEgFyKEw8Wgl"
      }
    },
    {
      "cell_type": "code",
      "source": [
        "result = (\n",
        "    oscar_nominees\n",
        "        .query('nominee == \"Abigail Breslin\"')\n",
        "        .shape[0]\n",
        ")"
      ],
      "metadata": {
        "id": "E4EkQCzO8YXI"
      },
      "execution_count": null,
      "outputs": []
    },
    {
      "cell_type": "markdown",
      "source": [
        "# 2099 Election Results\n",
        "https://platform.stratascratch.com/coding/2099-election-results?code_type=2"
      ],
      "metadata": {
        "id": "p78YQP9VA-ZN"
      }
    },
    {
      "cell_type": "code",
      "source": [
        "result = (\n",
        "    voting_results\n",
        "        .query('candidate.notnull()')\n",
        "        .groupby('voter', as_index=False)\n",
        "        .agg(lambda x: {i: round(1 / len(x), 3) for i in x})\n",
        "        ['candidate']\n",
        "        .apply(pd.Series)\n",
        "        .sum()\n",
        "        .reset_index()\n",
        "        .nlargest(1, 0, keep='all')\n",
        "        ['index']\n",
        ")"
      ],
      "metadata": {
        "id": "o6WLJZtMJzrq"
      },
      "execution_count": null,
      "outputs": []
    },
    {
      "cell_type": "code",
      "source": [
        "result = (\n",
        "    voting_results\n",
        "        .query('candidate.notnull()')\n",
        "        .assign(share=lambda x: 1 / x.groupby('voter').transform('count'))\n",
        "        .groupby('candidate', as_index=False)\n",
        "        ['share']\n",
        "        .sum()\n",
        "        .nlargest(1, 'share', keep='all')\n",
        "        ['candidate']\n",
        ")"
      ],
      "metadata": {
        "id": "NZWGUsxIBDVG"
      },
      "execution_count": null,
      "outputs": []
    },
    {
      "cell_type": "markdown",
      "source": [
        "# 2102 Flags per Video\n",
        "https://platform.stratascratch.com/coding/2102-flags-per-video?code_type=2"
      ],
      "metadata": {
        "id": "US3DVtW2GyX_"
      }
    },
    {
      "cell_type": "code",
      "source": [
        "result = (\n",
        "    user_flags\n",
        "        .query('flag_id.notnull()')\n",
        "        .drop_duplicates(['user_firstname', 'user_lastname', 'video_id'])\n",
        "        .assign(num_unique_users=1)\n",
        "        .groupby('video_id', as_index=False)\n",
        "        ['num_unique_users']\n",
        "        .count()\n",
        ")"
      ],
      "metadata": {
        "id": "c187r9f0G0Sb"
      },
      "execution_count": null,
      "outputs": []
    },
    {
      "cell_type": "code",
      "source": [
        "result = (\n",
        "    user_flags\n",
        "        .query('flag_id.notnull()')\n",
        "        .fillna('')\n",
        "        .assign(full_name=lambda x: x['user_firstname'] + ' ' + x['user_lastname'])\n",
        "        .groupby('video_id', as_index=False)\n",
        "        ['full_name']\n",
        "        .nunique()\n",
        ")"
      ],
      "metadata": {
        "id": "X7O2nj9iJw1D"
      },
      "execution_count": null,
      "outputs": []
    },
    {
      "cell_type": "markdown",
      "source": [
        "# 9610 Find students with a median writing score\n",
        "https://platform.stratascratch.com/coding/9610-find-students-with-a-median-writing-score?code_type=2"
      ],
      "metadata": {
        "id": "Fgun7mPhKDei"
      }
    },
    {
      "cell_type": "code",
      "source": [
        "result = (\n",
        "    sat_scores\n",
        "        .query('sat_writing == sat_writing.median()')\n",
        "        ['student_id']\n",
        ")"
      ],
      "metadata": {
        "id": "F11OzRZkKFYb"
      },
      "execution_count": null,
      "outputs": []
    },
    {
      "cell_type": "markdown",
      "source": [
        "# 9814 Counting Instances in Text\n",
        "https://platform.stratascratch.com/coding/9814-counting-instances-in-text?code_type=2"
      ],
      "metadata": {
        "id": "HENJJnDWKvyS"
      }
    },
    {
      "cell_type": "code",
      "source": [
        "result = (\n",
        "    google_file_store\n",
        "        ['contents']\n",
        "        .apply(lambda x: {'bull': x.count('bull'), 'bear': x.count('bear')})\n",
        "        .apply(pd.Series)\n",
        "        .sum()\n",
        "        .reset_index()\n",
        ")"
      ],
      "metadata": {
        "id": "6e50Y6bkKz6i"
      },
      "execution_count": null,
      "outputs": []
    },
    {
      "cell_type": "markdown",
      "source": [
        "# 9817 Find the number of times each word appears in drafts\n",
        "https://platform.stratascratch.com/coding/9817-find-the-number-of-times-each-word-appears-in-drafts?code_type=2"
      ],
      "metadata": {
        "id": "Xaa2lNbNMM71"
      }
    },
    {
      "cell_type": "code",
      "source": [
        "result = (\n",
        "    google_file_store\n",
        "        .query('filename.str.contains(\"draft\")')\n",
        "        ['contents']\n",
        "        .str\n",
        "        .split('\\W+', expand=True)\n",
        "        .stack()\n",
        "        .value_counts()\n",
        "        .reset_index()\n",
        ")"
      ],
      "metadata": {
        "id": "5v8PM22KMRYx"
      },
      "execution_count": null,
      "outputs": []
    },
    {
      "cell_type": "markdown",
      "source": [
        "# 10351 Activity Rank\n",
        "https://platform.stratascratch.com/coding/10351-activity-rank?code_type=2"
      ],
      "metadata": {
        "id": "vU2sUGSvO7BH"
      }
    },
    {
      "cell_type": "code",
      "source": [
        "result = (\n",
        "    google_gmail_emails\n",
        "        .assign(total_emails=1)\n",
        "        .groupby('from_user', as_index=False)\n",
        "        ['total_emails']\n",
        "        .count()\n",
        "        .sort_values(['total_emails', 'from_user'], ascending=[False, True])\n",
        "        .assign(rank=lambda x: x['total_emails'].rank(method='first', ascending=False))\n",
        ")"
      ],
      "metadata": {
        "id": "PVtg7kIuPA6w"
      },
      "execution_count": null,
      "outputs": []
    },
    {
      "cell_type": "markdown",
      "source": [
        "# 10303 Top Percentile Fraud\n",
        "https://platform.stratascratch.com/coding/10303-top-percentile-fraud?code_type=2"
      ],
      "metadata": {
        "id": "WrDBDN9nRwaZ"
      }
    },
    {
      "cell_type": "code",
      "source": [
        "result = (\n",
        "    fraud_score\n",
        "        .groupby('state')\n",
        "        .apply(lambda x: x[x['fraud_score'] >= x['fraud_score'].quantile(0.95)])\n",
        ")"
      ],
      "metadata": {
        "id": "TMJyMDXlRzkO"
      },
      "execution_count": null,
      "outputs": []
    },
    {
      "cell_type": "markdown",
      "source": [
        "# 2104 User with Most Approved Flags\n",
        "https://platform.stratascratch.com/coding/2104-user-with-most-approved-flags?code_type=2"
      ],
      "metadata": {
        "id": "0lq65ssdTFl-"
      }
    },
    {
      "cell_type": "code",
      "source": [
        "result = (\n",
        "    pd.merge(\n",
        "        user_flags,\n",
        "        flag_review.query('reviewed_outcome == \"APPROVED\"'),\n",
        "        on='flag_id'\n",
        "    )\n",
        "    .assign(full_name=lambda x: x['user_firstname'] + ' ' + x['user_lastname'])\n",
        "    .groupby('full_name', as_index=False)\n",
        "    .agg(n_videos=('video_id', 'nunique'))\n",
        "    .nlargest(1, 'n_videos', keep='all')\n",
        "    ['full_name']\n",
        ")"
      ],
      "metadata": {
        "id": "DxWCBBYgTJlG"
      },
      "execution_count": null,
      "outputs": []
    }
  ],
  "metadata": {
    "colab": {
      "name": "scratchpad",
      "provenance": [],
      "toc_visible": true,
      "include_colab_link": true
    },
    "kernelspec": {
      "display_name": "Python 3",
      "name": "python3"
    }
  },
  "nbformat": 4,
  "nbformat_minor": 0
}