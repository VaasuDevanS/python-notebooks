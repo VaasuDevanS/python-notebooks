{
  "nbformat": 4,
  "nbformat_minor": 0,
  "metadata": {
    "colab": {
      "provenance": [],
      "toc_visible": true,
      "authorship_tag": "ABX9TyPLRHd0NRLg6TG3sJ5/H06g",
      "include_colab_link": true
    },
    "kernelspec": {
      "name": "python3",
      "display_name": "Python 3"
    },
    "language_info": {
      "name": "python"
    }
  },
  "cells": [
    {
      "cell_type": "markdown",
      "metadata": {
        "id": "view-in-github",
        "colab_type": "text"
      },
      "source": [
        "<a href=\"https://colab.research.google.com/github/VaasuDevanS/python-notebooks/blob/main/StrataScratch/Lyft.ipynb\" target=\"_parent\"><img src=\"https://colab.research.google.com/assets/colab-badge.svg\" alt=\"Open In Colab\"/></a>"
      ]
    },
    {
      "cell_type": "markdown",
      "source": [
        "# 10176 Bikes Last Used\n",
        "https://platform.stratascratch.com/coding/10176-bikes-last-used?code_type=2"
      ],
      "metadata": {
        "id": "wtc-u6FnRL1s"
      }
    },
    {
      "cell_type": "code",
      "execution_count": null,
      "metadata": {
        "id": "GHoPvil7Qx3-"
      },
      "outputs": [],
      "source": [
        "result = (\n",
        "    dc_bikeshare_q1_2012\n",
        "        .groupby('bike_number', as_index=False)['end_time']\n",
        "        .max()\n",
        "        .rename(columns={'end_time': 'last_used'})\n",
        "        .sort_values('last_used', ascending=False)\n",
        ")"
      ]
    },
    {
      "cell_type": "markdown",
      "source": [
        "# 10003 Lyft Driver Wages\n",
        "https://platform.stratascratch.com/coding/10003-lyft-driver-wages?code_type=2"
      ],
      "metadata": {
        "id": "ToJrzeIrwPmf"
      }
    },
    {
      "cell_type": "code",
      "source": [
        "result = (\n",
        "    lyft_drivers\n",
        "        .query('yearly_salary <= 30000 or yearly_salary >= 70000')\n",
        ")"
      ],
      "metadata": {
        "id": "rR1uGuo-wRQM"
      },
      "execution_count": null,
      "outputs": []
    }
  ]
}