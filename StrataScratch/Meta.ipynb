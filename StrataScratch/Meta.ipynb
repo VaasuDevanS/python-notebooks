{
  "cells": [
    {
      "cell_type": "markdown",
      "metadata": {
        "id": "view-in-github",
        "colab_type": "text"
      },
      "source": [
        "<a href=\"https://colab.research.google.com/github/VaasuDevanS/python-notebooks/blob/main/StrataScratch/Meta.ipynb\" target=\"_parent\"><img src=\"https://colab.research.google.com/assets/colab-badge.svg\" alt=\"Open In Colab\"/></a>"
      ]
    },
    {
      "cell_type": "markdown",
      "source": [
        "# 2005 Share of Active Users\n",
        "https://platform.stratascratch.com/coding/2005-share-of-active-users?code_type=2"
      ],
      "metadata": {
        "id": "uvEHjJZenhQX"
      }
    },
    {
      "cell_type": "code",
      "execution_count": null,
      "metadata": {
        "id": "lIYdn1woOS1n"
      },
      "outputs": [],
      "source": [
        "result = (\n",
        "    len(fb_active_users.query('status == \"open\" and country == \"USA\"')) /\n",
        "    len(fb_active_users.query('country == \"USA\"'))\n",
        ")"
      ]
    },
    {
      "cell_type": "markdown",
      "source": [
        "# 2119 Most Lucrative Products\n",
        "https://platform.stratascratch.com/coding/2119-most-lucrative-products?code_type=2"
      ],
      "metadata": {
        "id": "UoJt8lG6okYa"
      }
    },
    {
      "cell_type": "code",
      "source": [
        "result = (\n",
        "    online_orders\n",
        "        .query('\"2022-01-01\" <= date <= \"2022-06-30\"')\n",
        "        .assign(total=online_orders['units_sold'] * online_orders['cost_in_dollars'])\n",
        "        .groupby('product_id', as_index=False)\n",
        "        .sum()\n",
        "        .nlargest(5, 'total')\n",
        "        [['product_id', 'total']]\n",
        ")"
      ],
      "metadata": {
        "id": "0bHQpVfmomzt"
      },
      "execution_count": null,
      "outputs": []
    },
    {
      "cell_type": "markdown",
      "source": [
        "# 10061 Popularity of Hack\n",
        "https://platform.stratascratch.com/coding/10061-popularity-of-hack?code_type=2"
      ],
      "metadata": {
        "id": "sXJX9058qAam"
      }
    },
    {
      "cell_type": "code",
      "source": [
        "result = (\n",
        "    facebook_employees\n",
        "        .merge(facebook_hack_survey, left_on='id', right_on='employee_id')\n",
        "        .groupby('location', as_index=False)\n",
        "        ['popularity']\n",
        "        .mean()\n",
        ")"
      ],
      "metadata": {
        "id": "-NORIxXWqHP1"
      },
      "execution_count": null,
      "outputs": []
    },
    {
      "cell_type": "markdown",
      "source": [
        "# 10087 Find all posts which were reacted to with a heart\n",
        "https://platform.stratascratch.com/coding/10087-find-all-posts-which-were-reacted-to-with-a-heart?code_type=2"
      ],
      "metadata": {
        "id": "7JpFdAZsrX1W"
      }
    },
    {
      "cell_type": "code",
      "source": [
        "result = (\n",
        "    facebook_reactions\n",
        "        .merge(facebook_posts, on='post_id')\n",
        "        .query('reaction == \"heart\"')\n",
        "        [['post_id', 'poster_x', 'post_text', 'post_keywords', 'post_date']]\n",
        "        .drop_duplicates()\n",
        "        .rename(columns={'poster_x': 'poster'})\n",
        ")"
      ],
      "metadata": {
        "id": "HHxFWUxGramd"
      },
      "execution_count": null,
      "outputs": []
    }
  ],
  "metadata": {
    "colab": {
      "name": "scratchpad",
      "provenance": [],
      "include_colab_link": true
    },
    "kernelspec": {
      "display_name": "Python 3",
      "name": "python3"
    }
  },
  "nbformat": 4,
  "nbformat_minor": 0
}