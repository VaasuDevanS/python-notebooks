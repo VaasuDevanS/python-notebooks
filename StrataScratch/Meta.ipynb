{
  "cells": [
    {
      "cell_type": "markdown",
      "metadata": {
        "id": "view-in-github",
        "colab_type": "text"
      },
      "source": [
        "<a href=\"https://colab.research.google.com/github/VaasuDevanS/python-notebooks/blob/main/StrataScratch/Meta.ipynb\" target=\"_parent\"><img src=\"https://colab.research.google.com/assets/colab-badge.svg\" alt=\"Open In Colab\"/></a>"
      ]
    },
    {
      "cell_type": "markdown",
      "source": [
        "# 2005 Share of Active Users\n",
        "https://platform.stratascratch.com/coding/2005-share-of-active-users?code_type=2"
      ],
      "metadata": {
        "id": "uvEHjJZenhQX"
      }
    },
    {
      "cell_type": "code",
      "execution_count": null,
      "metadata": {
        "id": "lIYdn1woOS1n"
      },
      "outputs": [],
      "source": [
        "result = (\n",
        "    len(fb_active_users.query('status == \"open\" and country == \"USA\"')) /\n",
        "    len(fb_active_users.query('country == \"USA\"'))\n",
        ")"
      ]
    },
    {
      "cell_type": "markdown",
      "source": [
        "# 2119 Most Lucrative Products\n",
        "https://platform.stratascratch.com/coding/2119-most-lucrative-products?code_type=2"
      ],
      "metadata": {
        "id": "UoJt8lG6okYa"
      }
    },
    {
      "cell_type": "code",
      "source": [
        "result = (\n",
        "    online_orders\n",
        "        .query('\"2022-01-01\" <= date <= \"2022-06-30\"')\n",
        "        .assign(total=online_orders['units_sold'] * online_orders['cost_in_dollars'])\n",
        "        .groupby('product_id', as_index=False)\n",
        "        .sum()\n",
        "        .nlargest(5, 'total')\n",
        "        [['product_id', 'total']]\n",
        ")"
      ],
      "metadata": {
        "id": "0bHQpVfmomzt"
      },
      "execution_count": null,
      "outputs": []
    },
    {
      "cell_type": "markdown",
      "source": [
        "# 10061 Popularity of Hack\n",
        "https://platform.stratascratch.com/coding/10061-popularity-of-hack?code_type=2"
      ],
      "metadata": {
        "id": "sXJX9058qAam"
      }
    },
    {
      "cell_type": "code",
      "source": [
        "result = (\n",
        "    facebook_employees\n",
        "        .merge(facebook_hack_survey, left_on='id', right_on='employee_id')\n",
        "        .groupby('location', as_index=False)\n",
        "        ['popularity']\n",
        "        .mean()\n",
        ")"
      ],
      "metadata": {
        "id": "-NORIxXWqHP1"
      },
      "execution_count": null,
      "outputs": []
    },
    {
      "cell_type": "markdown",
      "source": [
        "# 10087 Find all posts which were reacted to with a heart\n",
        "https://platform.stratascratch.com/coding/10087-find-all-posts-which-were-reacted-to-with-a-heart?code_type=2"
      ],
      "metadata": {
        "id": "7JpFdAZsrX1W"
      }
    },
    {
      "cell_type": "code",
      "source": [
        "result = (\n",
        "    facebook_reactions\n",
        "        .merge(facebook_posts, on='post_id')\n",
        "        .query('reaction == \"heart\"')\n",
        "        [['post_id', 'poster_x', 'post_text', 'post_keywords', 'post_date']]\n",
        "        .drop_duplicates()\n",
        "        .rename(columns={'poster_x': 'poster'})\n",
        ")"
      ],
      "metadata": {
        "id": "HHxFWUxGramd"
      },
      "execution_count": null,
      "outputs": []
    },
    {
      "cell_type": "markdown",
      "source": [
        "# 9781 Find the rate of processed tickets for each type\n",
        "https://platform.stratascratch.com/coding/9781-find-the-rate-of-processed-tickets-for-each-type?code_type=2"
      ],
      "metadata": {
        "id": "G70f3eNjiI-9"
      }
    },
    {
      "cell_type": "code",
      "source": [
        "result = (\n",
        "    facebook_complaints\n",
        "        .groupby('type', as_index=False)\n",
        "        ['processed']\n",
        "        .mean()\n",
        ")"
      ],
      "metadata": {
        "id": "L1UROvqYiM39"
      },
      "execution_count": null,
      "outputs": []
    },
    {
      "cell_type": "markdown",
      "source": [
        "# 10064 Highest Energy Consumption\n",
        "https://platform.stratascratch.com/coding/10064-highest-energy-consumption?code_type=2"
      ],
      "metadata": {
        "id": "HEYqQ4VNjVDZ"
      }
    },
    {
      "cell_type": "code",
      "source": [
        "result = (\n",
        "    pd.concat([fb_eu_energy, fb_asia_energy, fb_na_energy])\n",
        "        .groupby('date', as_index=False)\n",
        "        .sum()\n",
        "        .nlargest(1, 'consumption', keep='all')\n",
        ")"
      ],
      "metadata": {
        "id": "hfbtERRGjZet"
      },
      "execution_count": null,
      "outputs": []
    },
    {
      "cell_type": "markdown",
      "source": [
        "# 10134 Spam Posts\n",
        "https://platform.stratascratch.com/coding/10134-spam-posts?code_type=2"
      ],
      "metadata": {
        "id": "xlmQHI_9nGhU"
      }
    },
    {
      "cell_type": "code",
      "source": [
        "result = (\n",
        "    facebook_posts\n",
        "        .assign(spam_share=facebook_posts['post_keywords'].str.contains('spam'))\n",
        "        .merge(facebook_post_views, on='post_id')\n",
        "        .groupby('post_date', as_index=False)\n",
        "        ['spam_share']\n",
        "        .agg(lambda x: x.mean() * 100)\n",
        ")"
      ],
      "metadata": {
        "id": "LIqHse0nnJhr"
      },
      "execution_count": null,
      "outputs": []
    },
    {
      "cell_type": "markdown",
      "source": [
        "# 10284 Popularity Percentage\n",
        "https://platform.stratascratch.com/coding/10284-popularity-percentage?code_type=2"
      ],
      "metadata": {
        "id": "lSQ0wsLX52yw"
      }
    },
    {
      "cell_type": "code",
      "source": [
        "result = (\n",
        "    (combined := pd.concat((facebook_friends.user1, facebook_friends.user2)))\n",
        "        .value_counts()\n",
        "        / combined.nunique()\n",
        "        * 100\n",
        ")"
      ],
      "metadata": {
        "id": "8uaq3x_i54oV"
      },
      "execution_count": null,
      "outputs": []
    },
    {
      "cell_type": "markdown",
      "source": [
        "# 10285 Acceptance Rate By Date\n",
        "https://platform.stratascratch.com/coding/10285-acceptance-rate-by-date?code_type=2"
      ],
      "metadata": {
        "id": "cn9x3rf8qzrB"
      }
    },
    {
      "cell_type": "code",
      "source": [
        "result = (\n",
        "    pd.merge(\n",
        "        fb_friend_requests.query('action == \"sent\"'),\n",
        "        fb_friend_requests.query('action == \"accepted\"'),\n",
        "        on=['user_id_sender', 'user_id_receiver'],\n",
        "        how='left'\n",
        "    )\n",
        "    .assign(acceptance_rate=lambda x: x['date_y'].notnull())\n",
        "    .groupby('date_x', as_index=False)\n",
        "    ['acceptance_rate']\n",
        "    .mean()\n",
        "    .sort_values('date_x')\n",
        ")"
      ],
      "metadata": {
        "id": "4dhDBVaTq3Rd"
      },
      "execution_count": null,
      "outputs": []
    },
    {
      "cell_type": "markdown",
      "source": [
        "# 10352 Users By Average Session Time\n",
        "https://platform.stratascratch.com/coding/10352-users-by-avg-session-time?code_type=2"
      ],
      "metadata": {
        "id": "liBFxAW747mf"
      }
    },
    {
      "cell_type": "code",
      "source": [
        "def filter_df(df: pd.DataFrame, action: str):\n",
        "    df = df.query(f'action == \"{action}\"')\n",
        "    df['day'] = df['timestamp'].dt.date\n",
        "    return df.groupby(['user_id', 'day'], as_index=False)\n",
        "\n",
        "\n",
        "df_load = filter_df(facebook_web_log, 'page_load').max()\n",
        "df_exit = filter_df(facebook_web_log, 'page_exit').min()\n",
        "\n",
        "merged = pd.merge(df_load, df_exit, on=['user_id', 'day'])\n",
        "merged['duration'] = merged['timestamp_y'] - merged['timestamp_x']\n",
        "merged.groupby('user_id', as_index=False)['duration'].mean()"
      ],
      "metadata": {
        "id": "wGpwMzjF5AyV"
      },
      "execution_count": null,
      "outputs": []
    }
  ],
  "metadata": {
    "colab": {
      "name": "Meta",
      "provenance": [],
      "toc_visible": true,
      "include_colab_link": true
    },
    "kernelspec": {
      "display_name": "Python 3",
      "name": "python3"
    }
  },
  "nbformat": 4,
  "nbformat_minor": 0
}