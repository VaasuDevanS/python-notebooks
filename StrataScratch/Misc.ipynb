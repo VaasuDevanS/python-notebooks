{
  "cells": [
    {
      "cell_type": "markdown",
      "metadata": {
        "id": "view-in-github",
        "colab_type": "text"
      },
      "source": [
        "<a href=\"https://colab.research.google.com/github/VaasuDevanS/python-notebooks/blob/main/Misc.ipynb\" target=\"_parent\"><img src=\"https://colab.research.google.com/assets/colab-badge.svg\" alt=\"Open In Colab\"/></a>"
      ]
    },
    {
      "cell_type": "markdown",
      "source": [
        "# 9688 Churro Activity Date\n",
        "https://platform.stratascratch.com/coding/9688-churro-activity-date?code_type=2"
      ],
      "metadata": {
        "id": "-qP7j4rw2UPk"
      }
    },
    {
      "cell_type": "code",
      "source": [
        "result = (\n",
        "    los_angeles_restaurant_health_inspections\n",
        "        .query('score < 95 and facility_name == \"STREET CHURROS\"')\n",
        "        [['activity_date', 'pe_description']]\n",
        ")"
      ],
      "metadata": {
        "id": "qqtlld8v2WrT"
      },
      "execution_count": null,
      "outputs": []
    },
    {
      "cell_type": "markdown",
      "source": [
        "# 10308 Salaries Differences\n",
        "https://platform.stratascratch.com/coding/10308-salaries-differences?code_type=2"
      ],
      "metadata": {
        "id": "WchCgBdl3pj0"
      }
    },
    {
      "cell_type": "code",
      "source": [
        "max_salary = (\n",
        "    db_employee\n",
        "        .merge(db_dept, left_on='department_id', right_on='id')\n",
        "        .groupby('department')\n",
        "        ['salary']\n",
        "        .max()\n",
        "        .to_dict()\n",
        ")\n",
        "\n",
        "result = max_salary['marketing'] - max_salary['engineering']"
      ],
      "metadata": {
        "id": "IHbjNBRP3t2m"
      },
      "execution_count": null,
      "outputs": []
    },
    {
      "cell_type": "markdown",
      "source": [
        "# 9942 Largest Olympics\n",
        "https://platform.stratascratch.com/coding/9942-largest-olympics?code_type=2"
      ],
      "metadata": {
        "id": "99JXNNfg5N3Y"
      }
    },
    {
      "cell_type": "code",
      "source": [
        "result = (\n",
        "    olympics_athletes_events\n",
        "        .groupby('games', as_index=False)\n",
        "        .agg(athletes_count=('id', 'nunique'))\n",
        "        .nlargest(1, 'athletes_count')\n",
        ")"
      ],
      "metadata": {
        "id": "sCuUXizm5Uc2"
      },
      "execution_count": null,
      "outputs": []
    },
    {
      "cell_type": "markdown",
      "source": [
        "# 9917 Average Salaries\n",
        "https://platform.stratascratch.com/coding/9917-average-salaries?code_type=2"
      ],
      "metadata": {
        "id": "pSqoDND-7bA8"
      }
    },
    {
      "cell_type": "code",
      "source": [
        "result = (\n",
        "    employee\n",
        "        .assign(avg_salary=lambda df: df.groupby('department')['salary'].transform('mean'))\n",
        "        [['department', 'first_name', 'salary', 'avg_salary']]\n",
        ")"
      ],
      "metadata": {
        "id": "09uo4azB7eO-"
      },
      "execution_count": null,
      "outputs": []
    }
  ],
  "metadata": {
    "colab": {
      "name": "scratchpad",
      "provenance": [],
      "toc_visible": true,
      "include_colab_link": true
    },
    "kernelspec": {
      "display_name": "Python 3",
      "name": "python3"
    }
  },
  "nbformat": 4,
  "nbformat_minor": 0
}
