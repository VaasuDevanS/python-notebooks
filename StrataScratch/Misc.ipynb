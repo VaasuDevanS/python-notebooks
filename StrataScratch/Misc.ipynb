{
  "cells": [
    {
      "cell_type": "markdown",
      "metadata": {
        "id": "view-in-github",
        "colab_type": "text"
      },
      "source": [
        "<a href=\"https://colab.research.google.com/github/VaasuDevanS/python-notebooks/blob/main/StrataScratch/Misc.ipynb\" target=\"_parent\"><img src=\"https://colab.research.google.com/assets/colab-badge.svg\" alt=\"Open In Colab\"/></a>"
      ]
    },
    {
      "cell_type": "markdown",
      "source": [
        "# 9688 Churro Activity Date\n",
        "https://platform.stratascratch.com/coding/9688-churro-activity-date?code_type=2"
      ],
      "metadata": {
        "id": "-qP7j4rw2UPk"
      }
    },
    {
      "cell_type": "code",
      "source": [
        "result = (\n",
        "    los_angeles_restaurant_health_inspections\n",
        "        .query('score < 95 and facility_name == \"STREET CHURROS\"')\n",
        "        [['activity_date', 'pe_description']]\n",
        ")"
      ],
      "metadata": {
        "id": "qqtlld8v2WrT"
      },
      "execution_count": null,
      "outputs": []
    },
    {
      "cell_type": "markdown",
      "source": [
        "# 10308 Salaries Differences\n",
        "https://platform.stratascratch.com/coding/10308-salaries-differences?code_type=2"
      ],
      "metadata": {
        "id": "WchCgBdl3pj0"
      }
    },
    {
      "cell_type": "code",
      "source": [
        "max_salary = (\n",
        "    db_employee\n",
        "        .merge(db_dept, left_on='department_id', right_on='id')\n",
        "        .groupby('department')\n",
        "        ['salary']\n",
        "        .max()\n",
        "        .to_dict()\n",
        ")\n",
        "\n",
        "result = max_salary['marketing'] - max_salary['engineering']"
      ],
      "metadata": {
        "id": "IHbjNBRP3t2m"
      },
      "execution_count": null,
      "outputs": []
    },
    {
      "cell_type": "markdown",
      "source": [
        "# 9942 Largest Olympics\n",
        "https://platform.stratascratch.com/coding/9942-largest-olympics?code_type=2"
      ],
      "metadata": {
        "id": "99JXNNfg5N3Y"
      }
    },
    {
      "cell_type": "code",
      "source": [
        "result = (\n",
        "    olympics_athletes_events\n",
        "        .groupby('games', as_index=False)\n",
        "        .agg(athletes_count=('id', 'nunique'))\n",
        "        .nlargest(1, 'athletes_count')\n",
        ")"
      ],
      "metadata": {
        "id": "sCuUXizm5Uc2"
      },
      "execution_count": null,
      "outputs": []
    },
    {
      "cell_type": "markdown",
      "source": [
        "# 9917 Average Salaries\n",
        "https://platform.stratascratch.com/coding/9917-average-salaries?code_type=2"
      ],
      "metadata": {
        "id": "pSqoDND-7bA8"
      }
    },
    {
      "cell_type": "code",
      "source": [
        "result = (\n",
        "    employee\n",
        "        .assign(avg_salary=lambda df: df.groupby('department')['salary'].transform('mean'))\n",
        "        [['department', 'first_name', 'salary', 'avg_salary']]\n",
        ")"
      ],
      "metadata": {
        "id": "09uo4azB7eO-"
      },
      "execution_count": null,
      "outputs": []
    },
    {
      "cell_type": "markdown",
      "source": [
        "# 9663 Find the most profitable company in the financial sector of the entire world along with its continent\n",
        "https://platform.stratascratch.com/coding/9663-find-the-most-profitable-company-in-the-financial-sector-of-the-entire-world-along-with-its-continent?code_type=2\n"
      ],
      "metadata": {
        "id": "_yiWofIPryNz"
      }
    },
    {
      "cell_type": "code",
      "source": [
        "result = (\n",
        "    forbes_global_2010_2014\n",
        "        .query('sector == \"Financials\"')\n",
        "        .nlargest(1, 'profits')\n",
        "        [['company', 'continent']]\n",
        ")"
      ],
      "metadata": {
        "id": "8dhqU8lWrzv9"
      },
      "execution_count": null,
      "outputs": []
    },
    {
      "cell_type": "markdown",
      "source": [
        "# 10299 Finding Updated Records\n",
        "https://platform.stratascratch.com/coding/10299-finding-updated-records?code_type=2"
      ],
      "metadata": {
        "id": "rZyTtglWsSXj"
      }
    },
    {
      "cell_type": "code",
      "source": [
        "result = (\n",
        "    ms_employee_salary\n",
        "        .sort_values('salary')\n",
        "        .drop_duplicates('id', keep='last')\n",
        "        .sort_values('id')\n",
        ")"
      ],
      "metadata": {
        "id": "5dnNEAPBsW7V"
      },
      "execution_count": null,
      "outputs": []
    },
    {
      "cell_type": "markdown",
      "source": [
        "# 9894 Employee and Manager Salaries\n",
        "https://platform.stratascratch.com/coding/9894-employee-and-manager-salaries?code_type=2"
      ],
      "metadata": {
        "id": "hayCiTirwN7g"
      }
    },
    {
      "cell_type": "code",
      "source": [
        "result = (\n",
        "    (df := employee[['id', 'first_name', 'manager_id', 'salary']])\n",
        "        .merge(df[['id', 'salary']], left_on='manager_id', right_on='id')\n",
        "        .query('salary_x > salary_y')\n",
        "        [['first_name', 'salary_x']]\n",
        ")"
      ],
      "metadata": {
        "id": "hJ3nOD5awQJO"
      },
      "execution_count": null,
      "outputs": []
    },
    {
      "cell_type": "markdown",
      "source": [
        "# 10354 Most Profitable Companies\n",
        "https://platform.stratascratch.com/coding/10354-most-profitable-companies?code_type=2"
      ],
      "metadata": {
        "id": "0igOxmUPzcD6"
      }
    },
    {
      "cell_type": "code",
      "source": [
        "result = (\n",
        "    forbes_global_2010_2014\n",
        "        .nlargest(3, 'profits', keep='all')\n",
        "        [['company', 'profits']]\n",
        ")"
      ],
      "metadata": {
        "id": "OiLpECWPzifv"
      },
      "execution_count": null,
      "outputs": []
    },
    {
      "cell_type": "markdown",
      "source": [
        "# 9905 Highest Target Under Manager\n",
        "https://platform.stratascratch.com/coding/9905-highest-target-under-manager?code_type=2"
      ],
      "metadata": {
        "id": "pEGnukc40kRG"
      }
    },
    {
      "cell_type": "code",
      "source": [
        "result = (\n",
        "    salesforce_employees\n",
        "        .query('manager_id == 13')\n",
        "        .nlargest(1, 'target', keep='all')\n",
        "        [['first_name', 'target']]\n",
        ")"
      ],
      "metadata": {
        "id": "3ckxOaEI0Bfv"
      },
      "execution_count": null,
      "outputs": []
    },
    {
      "cell_type": "markdown",
      "source": [
        "# 10318 New Products\n",
        "https://platform.stratascratch.com/coding/10318-new-products?code_type=2"
      ],
      "metadata": {
        "id": "LaRlhqQM1zGT"
      }
    },
    {
      "cell_type": "code",
      "source": [
        "df = (\n",
        "    car_launches\n",
        "        .groupby(['year', 'company_name'], as_index=False)\n",
        "        .count()\n",
        "        .rename(columns={'product_name': 'product_count'})\n",
        ")\n",
        "\n",
        "result = (\n",
        "    df\n",
        "    .query('year == 2020')\n",
        "    .merge(df.query('year == 2019'), on='company_name')\n",
        "    .assign(net_difference=lambda df: df['product_count_x'] - df['product_count_y'])\n",
        "    [['company_name', 'net_difference']]\n",
        ")"
      ],
      "metadata": {
        "id": "3cnYJ21D11BX"
      },
      "execution_count": null,
      "outputs": []
    },
    {
      "cell_type": "markdown",
      "source": [
        "# 9897 Highest Salary In Department\n",
        "https://platform.stratascratch.com/coding/9897-highest-salary-in-department?code_type=2"
      ],
      "metadata": {
        "id": "F0VCvibU5369"
      }
    },
    {
      "cell_type": "code",
      "source": [
        "result = (\n",
        "    employee\n",
        "        .groupby('department', as_index=False)\n",
        "        .agg({'salary': 'max'})\n",
        "        .merge(employee[['first_name', 'salary']], on='salary')\n",
        ")"
      ],
      "metadata": {
        "id": "Qg9VVA9757Gh"
      },
      "execution_count": null,
      "outputs": []
    },
    {
      "cell_type": "markdown",
      "source": [
        "# 10026 Find all wineries which produce wines by possessing aromas of plum, cherry, rose, or hazelnut\n",
        "https://platform.stratascratch.com/coding/10026-find-all-wineries-which-produce-wines-by-possessing-aromas-of-plum-cherry-rose-or-hazelnut?code_type=2"
      ],
      "metadata": {
        "id": "HsUeufH39Y5N"
      }
    },
    {
      "cell_type": "code",
      "source": [
        "pattern = r\"\\b(cherry|plum|rose|hazelnut)\\b\"\n",
        "\n",
        "result = (\n",
        "    winemag_p1[\n",
        "        winemag_p1['description'].str.contains(pattern, case=False)\n",
        "    ]\n",
        "    .drop_duplicates()\n",
        "    ['winery']\n",
        ")"
      ],
      "metadata": {
        "id": "91dyMd-G9efF"
      },
      "execution_count": null,
      "outputs": []
    }
  ],
  "metadata": {
    "colab": {
      "name": "scratchpad",
      "provenance": [],
      "toc_visible": true,
      "include_colab_link": true
    },
    "kernelspec": {
      "display_name": "Python 3",
      "name": "python3"
    }
  },
  "nbformat": 4,
  "nbformat_minor": 0
}