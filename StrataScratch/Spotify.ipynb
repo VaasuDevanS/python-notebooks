{
  "cells": [
    {
      "cell_type": "markdown",
      "metadata": {
        "id": "view-in-github",
        "colab_type": "text"
      },
      "source": [
        "<a href=\"https://colab.research.google.com/github/VaasuDevanS/python-notebooks/blob/main/StrataScratch/Spotify.ipynb\" target=\"_parent\"><img src=\"https://colab.research.google.com/assets/colab-badge.svg\" alt=\"Open In Colab\"/></a>"
      ]
    },
    {
      "cell_type": "markdown",
      "source": [
        "# 9650 Find the top 10 ranked songs in 2010\n",
        "https://platform.stratascratch.com/coding/9650-find-the-top-10-ranked-songs-in-2010?code_type=2"
      ],
      "metadata": {
        "id": "qdJE-D4LXIqd"
      }
    },
    {
      "cell_type": "code",
      "source": [
        "result = (\n",
        "    billboard_top_100_year_end\n",
        "        .query('year == 2010')\n",
        "        [['year_rank', 'group_name', 'song_name']]\n",
        "        .drop_duplicates()\n",
        "        .sort_values('year_rank')\n",
        "        .head(10)\n",
        ")"
      ],
      "metadata": {
        "id": "NwKUTQqfXLVz"
      },
      "execution_count": null,
      "outputs": []
    },
    {
      "cell_type": "markdown",
      "source": [
        "# 9991 Top Ranked Songs\n",
        "https://platform.stratascratch.com/coding/9991-top-ranked-songs?code_type=2"
      ],
      "metadata": {
        "id": "wT8WSDOwYGIr"
      }
    },
    {
      "cell_type": "code",
      "source": [
        "result = (\n",
        "    spotify_worldwide_daily_song_ranking\n",
        "        .query('position == 1')\n",
        "        .assign(times_top1=1)\n",
        "        .groupby('trackname', as_index=False)\n",
        "        .count()\n",
        "        [['trackname', 'times_top1']]\n",
        "        .sort_values('times_top1', ascending=False)\n",
        ")"
      ],
      "metadata": {
        "id": "u0IW5KyNYIpS"
      },
      "execution_count": null,
      "outputs": []
    },
    {
      "cell_type": "markdown",
      "source": [
        "# 9992 Find how many times each artist appeared on the Spotify ranking list\n",
        "https://platform.stratascratch.com/coding/9992-find-artists-that-have-been-on-spotify-the-most-number-of-times?code_type=2"
      ],
      "metadata": {
        "id": "8LI-d1OwZTxH"
      }
    },
    {
      "cell_type": "code",
      "source": [
        "result = (\n",
        "    spotify_worldwide_daily_song_ranking\n",
        "        ['artist']\n",
        "        .value_counts()\n",
        "        .reset_index()\n",
        ")"
      ],
      "metadata": {
        "id": "1bnJ1OtxZWGZ"
      },
      "execution_count": null,
      "outputs": []
    }
  ],
  "metadata": {
    "colab": {
      "name": "scratchpad",
      "provenance": [],
      "include_colab_link": true
    },
    "kernelspec": {
      "display_name": "Python 3",
      "name": "python3"
    }
  },
  "nbformat": 4,
  "nbformat_minor": 0
}