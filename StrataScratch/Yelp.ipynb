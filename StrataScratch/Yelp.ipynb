{
  "cells": [
    {
      "cell_type": "markdown",
      "metadata": {
        "id": "view-in-github",
        "colab_type": "text"
      },
      "source": [
        "<a href=\"https://colab.research.google.com/github/VaasuDevanS/python-notebooks/blob/main/StrataScratch/Yelp.ipynb\" target=\"_parent\"><img src=\"https://colab.research.google.com/assets/colab-badge.svg\" alt=\"Open In Colab\"/></a>"
      ]
    },
    {
      "cell_type": "markdown",
      "source": [
        "# 10048 Top Businesses With Most Reviews\n",
        "https://platform.stratascratch.com/coding/10048-top-businesses-with-most-reviews?code_type=2"
      ],
      "metadata": {
        "id": "vABUGVJIasjD"
      }
    },
    {
      "cell_type": "code",
      "source": [
        "result = (\n",
        "    yelp_business\n",
        "        .groupby('name', as_index=False)\n",
        "        ['review_count']\n",
        "        .sum()\n",
        "        .nlargest(5, 'review_count')\n",
        ")"
      ],
      "metadata": {
        "id": "FFAMyit0aw6w"
      },
      "execution_count": null,
      "outputs": []
    },
    {
      "cell_type": "markdown",
      "source": [
        "# 10060 Top Cool Votes\n",
        "https://platform.stratascratch.com/coding/10060-top-cool-votes?code_type=2"
      ],
      "metadata": {
        "id": "6tha83BBbpdO"
      }
    },
    {
      "cell_type": "code",
      "source": [
        "result = (\n",
        "    yelp_reviews\n",
        "        .query('cool == cool.max()')\n",
        "        [['business_name', 'review_text']]\n",
        ")"
      ],
      "metadata": {
        "id": "T4bRO1FgbtoA"
      },
      "execution_count": null,
      "outputs": []
    },
    {
      "cell_type": "markdown",
      "source": [
        "# 10046 Top 5 States With 5 Star Businesses\n",
        "https://platform.stratascratch.com/coding/10046-top-5-states-with-5-star-businesses?code_type=2"
      ],
      "metadata": {
        "id": "MennvJQFcmcb"
      }
    },
    {
      "cell_type": "code",
      "source": [
        "result = (\n",
        "    yelp_business\n",
        "        .query('stars == 5')\n",
        "        .assign(n_businesses=1)\n",
        "        .groupby('state', as_index=False)\n",
        "        ['n_businesses']\n",
        "        .count()\n",
        "        .nlargest(5, 'n_businesses', keep='all')\n",
        "        .sort_values(['n_businesses', 'state'], ascending=[False, True])\n",
        ")"
      ],
      "metadata": {
        "id": "__vBntHicpZf"
      },
      "execution_count": null,
      "outputs": []
    },
    {
      "cell_type": "markdown",
      "source": [
        "# 10049 Reviews of Categories\n",
        "https://platform.stratascratch.com/coding/10049-reviews-of-categories?code_type=2"
      ],
      "metadata": {
        "id": "mvnve_NyevtD"
      }
    },
    {
      "cell_type": "code",
      "source": [
        "result = (\n",
        "    yelp_business\n",
        "        .assign(categories=yelp_business['categories'].str.split(';'))\n",
        "        .explode('categories')\n",
        "        .groupby('categories', as_index=False)\n",
        "        ['review_count']\n",
        "        .sum()\n",
        "        .sort_values('review_count', ascending=False)\n",
        ")"
      ],
      "metadata": {
        "id": "0bcL_Uiye0i3"
      },
      "execution_count": null,
      "outputs": []
    }
  ],
  "metadata": {
    "colab": {
      "name": "scratchpad",
      "provenance": [],
      "include_colab_link": true
    },
    "kernelspec": {
      "display_name": "Python 3",
      "name": "python3"
    }
  },
  "nbformat": 4,
  "nbformat_minor": 0
}